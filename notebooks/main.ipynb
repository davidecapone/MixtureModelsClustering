{
 "cells": [
  {
   "attachments": {},
   "cell_type": "markdown",
   "metadata": {},
   "source": [
    "# Mixture Models Clustering\n",
    "## Non probabilistic models\n",
    "### K-means\n",
    "### DBSCAN\n",
    "## Probabilistic models\n",
    "### Bayesian Gaussian Mixture Models\n",
    "### Bayesian Mixture Models with other distributions\n",
    "### Mixture Models with EM\n",
    "### Model comparisons"
   ]
  }
 ],
 "metadata": {
  "kernelspec": {
   "display_name": "Python 3 (ipykernel)",
   "language": "python",
   "name": "python3"
  },
  "orig_nbformat": 4
 },
 "nbformat": 4,
 "nbformat_minor": 2
}
